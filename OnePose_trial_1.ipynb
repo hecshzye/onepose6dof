{
  "nbformat": 4,
  "nbformat_minor": 0,
  "metadata": {
    "colab": {
      "name": "OnePose_trial_1.ipynb",
      "provenance": [],
      "mount_file_id": "13wE3i4W600w0rmW0lQCiWqaBO4z3uybj",
      "authorship_tag": "ABX9TyMCaPXkGjbEgxkEEGCB3L1J",
      "include_colab_link": true
    },
    "kernelspec": {
      "name": "python3",
      "display_name": "Python 3"
    },
    "language_info": {
      "name": "python"
    },
    "accelerator": "GPU",
    "gpuClass": "standard"
  },
  "cells": [
    {
      "cell_type": "markdown",
      "metadata": {
        "id": "view-in-github",
        "colab_type": "text"
      },
      "source": [
        "<a href=\"https://colab.research.google.com/github/hecshzye/onepose6dof/blob/main/OnePose_trial_1.ipynb\" target=\"_parent\"><img src=\"https://colab.research.google.com/assets/colab-badge.svg\" alt=\"Open In Colab\"/></a>"
      ]
    },
    {
      "cell_type": "markdown",
      "source": [
        "#6DoF Object Pose Estimation & Detection"
      ],
      "metadata": {
        "id": "dNr1Cq40A3kz"
      }
    },
    {
      "cell_type": "code",
      "source": [
        "import numpy as np\n",
        "import pandas as pd \n",
        "import matplotlib.pyplot as plt\n",
        "import csv\n",
        "import re\n",
        "import sys\n",
        "import os\n",
        "import tensorflow as tf"
      ],
      "metadata": {
        "id": "Ls8w_ssiZUFq"
      },
      "execution_count": 1,
      "outputs": []
    },
    {
      "cell_type": "code",
      "execution_count": 2,
      "metadata": {
        "colab": {
          "base_uri": "https://localhost:8080/"
        },
        "id": "Mjanj3ZOUjA3",
        "outputId": "499f1c05-6087-4fb4-cca0-6bfbca33adf3"
      },
      "outputs": [
        {
          "output_type": "stream",
          "name": "stdout",
          "text": [
            "fatal: destination path 'OnePose' already exists and is not an empty directory.\n"
          ]
        }
      ],
      "source": [
        "!git clone https://github.com/zju3dv/OnePose.git"
      ]
    },
    {
      "cell_type": "code",
      "source": [
        "!pip install -q condacolab"
      ],
      "metadata": {
        "id": "H-j4buX5YjcD"
      },
      "execution_count": 3,
      "outputs": []
    },
    {
      "cell_type": "code",
      "source": [
        "import condacolab\n",
        "condacolab.install()"
      ],
      "metadata": {
        "colab": {
          "base_uri": "https://localhost:8080/"
        },
        "id": "wv275KdZYmw8",
        "outputId": "1d349212-d96d-4069-a926-9b926b4f1c57"
      },
      "execution_count": 4,
      "outputs": [
        {
          "output_type": "stream",
          "name": "stdout",
          "text": [
            "✨🍰✨ Everything looks OK!\n"
          ]
        }
      ]
    },
    {
      "cell_type": "code",
      "source": [
        "!conda --version"
      ],
      "metadata": {
        "colab": {
          "base_uri": "https://localhost:8080/"
        },
        "id": "u5GQMM92XNt9",
        "outputId": "fdc1854b-28f2-4b1c-d436-09353b099f87"
      },
      "execution_count": 5,
      "outputs": [
        {
          "output_type": "stream",
          "name": "stdout",
          "text": [
            "conda 4.13.0\n"
          ]
        }
      ]
    },
    {
      "cell_type": "code",
      "source": [
        "cd OnePose"
      ],
      "metadata": {
        "colab": {
          "base_uri": "https://localhost:8080/"
        },
        "id": "mhVvDDpMWi7H",
        "outputId": "5a9872b9-17fd-4602-85bb-cb7875e7e388"
      },
      "execution_count": 6,
      "outputs": [
        {
          "output_type": "stream",
          "name": "stdout",
          "text": [
            "/content/OnePose\n"
          ]
        }
      ]
    },
    {
      "cell_type": "code",
      "source": [
        "#%%bash \n",
        "!conda env create -f environment.yaml"
      ],
      "metadata": {
        "colab": {
          "base_uri": "https://localhost:8080/"
        },
        "id": "9SV6uwraYugy",
        "outputId": "e4881812-a2ad-4157-d446-d3c9fd933296"
      },
      "execution_count": 7,
      "outputs": [
        {
          "output_type": "stream",
          "name": "stdout",
          "text": [
            "\n",
            "CondaValueError: prefix already exists: /usr/local/envs/onepose\n",
            "\n"
          ]
        }
      ]
    },
    {
      "cell_type": "code",
      "source": [
        "!conda update conda -y -q"
      ],
      "metadata": {
        "id": "8Ip5TPQRd5xP",
        "colab": {
          "base_uri": "https://localhost:8080/"
        },
        "outputId": "a96cdf2f-c57c-4ca8-f340-ef4bf5e6068e"
      },
      "execution_count": 8,
      "outputs": [
        {
          "output_type": "stream",
          "name": "stdout",
          "text": [
            "Collecting package metadata (current_repodata.json): ...working... done\n",
            "Solving environment: ...working... done\n",
            "\n",
            "# All requested packages already installed.\n",
            "\n"
          ]
        }
      ]
    },
    {
      "cell_type": "code",
      "source": [
        "!source /usr/local/etc/profile.d/conda.sh"
      ],
      "metadata": {
        "id": "-Xaki1kpd9Te"
      },
      "execution_count": 9,
      "outputs": []
    },
    {
      "cell_type": "code",
      "source": [
        "#!conda init <bash>"
      ],
      "metadata": {
        "id": "YHmgAP1VZyYA"
      },
      "execution_count": 10,
      "outputs": []
    },
    {
      "cell_type": "code",
      "source": [
        "!conda init "
      ],
      "metadata": {
        "colab": {
          "base_uri": "https://localhost:8080/"
        },
        "id": "MbGvrMJVeIWA",
        "outputId": "5123adf4-a915-4ece-c3cd-a3c855e24826"
      },
      "execution_count": 11,
      "outputs": [
        {
          "output_type": "stream",
          "name": "stdout",
          "text": [
            "no change     /usr/local/condabin/conda\n",
            "no change     /usr/local/bin/conda\n",
            "no change     /usr/local/bin/conda-env\n",
            "no change     /usr/local/bin/activate\n",
            "no change     /usr/local/bin/deactivate\n",
            "no change     /usr/local/etc/profile.d/conda.sh\n",
            "no change     /usr/local/etc/fish/conf.d/conda.fish\n",
            "no change     /usr/local/shell/condabin/Conda.psm1\n",
            "no change     /usr/local/shell/condabin/conda-hook.ps1\n",
            "no change     /usr/local/lib/python3.7/site-packages/xontrib/conda.xsh\n",
            "no change     /usr/local/etc/profile.d/conda.csh\n",
            "no change     /root/.bashrc\n",
            "No action taken.\n"
          ]
        }
      ]
    },
    {
      "cell_type": "code",
      "source": [
        "!conda activate onepose"
      ],
      "metadata": {
        "colab": {
          "base_uri": "https://localhost:8080/"
        },
        "id": "vZSW-8NcdLHa",
        "outputId": "e12dea92-11c7-490d-af30-7b738d2b2086"
      },
      "execution_count": 12,
      "outputs": [
        {
          "output_type": "stream",
          "name": "stdout",
          "text": [
            "\n",
            "CommandNotFoundError: Your shell has not been properly configured to use 'conda activate'.\n",
            "To initialize your shell, run\n",
            "\n",
            "    $ conda init <SHELL_NAME>\n",
            "\n",
            "Currently supported shells are:\n",
            "  - bash\n",
            "  - fish\n",
            "  - tcsh\n",
            "  - xonsh\n",
            "  - zsh\n",
            "  - powershell\n",
            "\n",
            "See 'conda init --help' for more information and options.\n",
            "\n",
            "IMPORTANT: You may need to close and restart your shell after running 'conda init'.\n",
            "\n",
            "\n"
          ]
        }
      ]
    },
    {
      "cell_type": "code",
      "source": [
        "REPO_ROOT='/content/OnePose'"
      ],
      "metadata": {
        "id": "FEp6NGcudv9a"
      },
      "execution_count": 13,
      "outputs": []
    },
    {
      "cell_type": "code",
      "source": [
        "cd $REPO_ROOT"
      ],
      "metadata": {
        "colab": {
          "base_uri": "https://localhost:8080/"
        },
        "id": "3aO8sd4MHJWF",
        "outputId": "79a4473c-cbeb-4e6d-d2f5-ddff4f33486d"
      },
      "execution_count": 14,
      "outputs": [
        {
          "output_type": "stream",
          "name": "stdout",
          "text": [
            "/content/OnePose\n"
          ]
        }
      ]
    },
    {
      "cell_type": "code",
      "source": [
        "!sh ./scripts/prepare_2D_matching_resources.sh"
      ],
      "metadata": {
        "colab": {
          "base_uri": "https://localhost:8080/"
        },
        "id": "N0xtSxlBHL9B",
        "outputId": "21b43822-c311-4766-d159-b77468c35df5"
      },
      "execution_count": 16,
      "outputs": [
        {
          "output_type": "stream",
          "name": "stdout",
          "text": [
            "work space:/content/OnePose\n",
            "--2022-07-01 09:35:21--  https://github.com/magicleap/SuperGluePretrainedNetwork/raw/master/models/weights/superpoint_v1.pth\n",
            "Resolving github.com (github.com)... 52.69.186.44\n",
            "Connecting to github.com (github.com)|52.69.186.44|:443... connected.\n",
            "HTTP request sent, awaiting response... 302 Found\n",
            "Location: https://raw.githubusercontent.com/magicleap/SuperGluePretrainedNetwork/master/models/weights/superpoint_v1.pth [following]\n",
            "--2022-07-01 09:35:21--  https://raw.githubusercontent.com/magicleap/SuperGluePretrainedNetwork/master/models/weights/superpoint_v1.pth\n",
            "Resolving raw.githubusercontent.com (raw.githubusercontent.com)... 185.199.108.133, 185.199.109.133, 185.199.110.133, ...\n",
            "Connecting to raw.githubusercontent.com (raw.githubusercontent.com)|185.199.108.133|:443... connected.\n",
            "HTTP request sent, awaiting response... 200 OK\n",
            "Length: 5206086 (5.0M) [application/octet-stream]\n",
            "Saving to: ‘superpoint_v1.pth’\n",
            "\n",
            "superpoint_v1.pth   100%[===================>]   4.96M  --.-KB/s    in 0.09s   \n",
            "\n",
            "2022-07-01 09:35:22 (56.1 MB/s) - ‘superpoint_v1.pth’ saved [5206086/5206086]\n",
            "\n",
            "--2022-07-01 09:35:22--  https://github.com/magicleap/SuperGluePretrainedNetwork/raw/master/models/weights/superglue_outdoor.pth\n",
            "Resolving github.com (github.com)... 13.114.40.48\n",
            "Connecting to github.com (github.com)|13.114.40.48|:443... connected.\n",
            "HTTP request sent, awaiting response... 302 Found\n",
            "Location: https://raw.githubusercontent.com/magicleap/SuperGluePretrainedNetwork/master/models/weights/superglue_outdoor.pth [following]\n",
            "--2022-07-01 09:35:23--  https://raw.githubusercontent.com/magicleap/SuperGluePretrainedNetwork/master/models/weights/superglue_outdoor.pth\n",
            "Resolving raw.githubusercontent.com (raw.githubusercontent.com)... 185.199.109.133, 185.199.110.133, 185.199.108.133, ...\n",
            "Connecting to raw.githubusercontent.com (raw.githubusercontent.com)|185.199.109.133|:443... connected.\n",
            "HTTP request sent, awaiting response... 200 OK\n",
            "Length: 48233807 (46M) [application/octet-stream]\n",
            "Saving to: ‘superglue_outdoor.pth’\n",
            "\n",
            "superglue_outdoor.p 100%[===================>]  46.00M   172MB/s    in 0.3s    \n",
            "\n",
            "2022-07-01 09:35:27 (172 MB/s) - ‘superglue_outdoor.pth’ saved [48233807/48233807]\n",
            "\n"
          ]
        }
      ]
    },
    {
      "cell_type": "code",
      "source": [
        "# Working in progress, should be ready very soon, only available on test-pypi now.\n",
        "!pip install -i https://test.pypi.org/simple/ wis3d"
      ],
      "metadata": {
        "colab": {
          "base_uri": "https://localhost:8080/"
        },
        "id": "FxYe7zUKHVNs",
        "outputId": "889920b9-773b-49c7-de5e-5d5fec533d07"
      },
      "execution_count": 18,
      "outputs": [
        {
          "output_type": "stream",
          "name": "stdout",
          "text": [
            "Looking in indexes: https://test.pypi.org/simple/, https://us-python.pkg.dev/colab-wheels/public/simple/\n",
            "Collecting wis3d\n",
            "  Downloading https://test-files.pythonhosted.org/packages/99/b2/7d51e9300030a955ae170d749fa12e23b6682210c843932c2d28fd95d929/wis3d-1.0.8-py3-none-any.whl (584 kB)\n",
            "\u001b[K     |████████████████████████████████| 584 kB 4.3 MB/s \n",
            "\u001b[?25h  Downloading https://test-files.pythonhosted.org/packages/f3/23/ae694489d744f4c2a863b9b2c1291997c678146d9dc77aa4d4b52774a6da/wis3d-1.0.7-py3-none-any.whl (9.8 kB)\n",
            "  Downloading https://test-files.pythonhosted.org/packages/38/e0/290c49a4508711f59ed7ee18f89642d33c50bec32da2502a75e002b2c9b4/wis3d-1.0.6-py3-none-any.whl (10 kB)\n",
            "  Downloading https://test-files.pythonhosted.org/packages/58/4e/a959ce3f221acc784bb75d442e267eb354493dd890d03b4a4f86a4e19d42/wis3d-1.0.5-py3-none-any.whl (10 kB)\n",
            "  Downloading https://test-files.pythonhosted.org/packages/f8/15/db914aa5959dc732a8e320d448d41aeae842bcf39bc7780a71ad6e97e562/wis3d-1.0.4-py3-none-any.whl (10 kB)\n",
            "  Downloading https://test-files.pythonhosted.org/packages/7e/7c/868772809a8331f3178f2faa01dacc08bc8bea39f33cbc2b5acfe814048f/wis3d-1.0.3-py3-none-any.whl (10 kB)\n",
            "  Downloading https://test-files.pythonhosted.org/packages/55/9d/ec305f094296a96ae5b0f4c76d7317a6f0c37d882d4e08d23823b4d1cfab/wis3d-1.0.2-py3-none-any.whl (10 kB)\n",
            "\u001b[31mERROR: Cannot install wis3d==1.0.2, wis3d==1.0.3, wis3d==1.0.4, wis3d==1.0.5, wis3d==1.0.6, wis3d==1.0.7 and wis3d==1.0.8 because these package versions have conflicting dependencies.\u001b[0m\n",
            "\n",
            "The conflict is caused by:\n",
            "    wis3d 1.0.8 depends on cherrypy\n",
            "    wis3d 1.0.7 depends on cherrypy\n",
            "    wis3d 1.0.6 depends on cherrypy\n",
            "    wis3d 1.0.5 depends on cherrypy\n",
            "    wis3d 1.0.4 depends on cherrypy\n",
            "    wis3d 1.0.3 depends on cherrypy\n",
            "    wis3d 1.0.2 depends on cherrypy\n",
            "\n",
            "To fix this you could try to:\n",
            "1. loosen the range of package versions you've specified\n",
            "2. remove package versions to allow pip attempt to solve the dependency conflict\n",
            "\n",
            "\u001b[31mERROR: ResolutionImpossible: for help visit https://pip.pypa.io/en/latest/user_guide/#fixing-conflicting-dependencies\u001b[0m\n"
          ]
        }
      ]
    },
    {
      "cell_type": "code",
      "source": [
        ""
      ],
      "metadata": {
        "id": "GJDB42f_Hjrl"
      },
      "execution_count": null,
      "outputs": []
    }
  ]
}